{
 "cells": [
  {
   "cell_type": "code",
   "execution_count": 1,
   "metadata": {},
   "outputs": [
    {
     "name": "stdout",
     "output_type": "stream",
     "text": [
      "Requirement already satisfied: pytesseract in c:\\users\\shreya\\appdata\\local\\programs\\python\\python312\\lib\\site-packages (0.3.13)\n",
      "Requirement already satisfied: Pillow in c:\\users\\shreya\\appdata\\local\\programs\\python\\python312\\lib\\site-packages (10.4.0)\n",
      "Requirement already satisfied: packaging>=21.3 in c:\\users\\shreya\\appdata\\roaming\\python\\python312\\site-packages (from pytesseract) (24.1)\n"
     ]
    }
   ],
   "source": [
    "!pip install pytesseract Pillow\n"
   ]
  },
  {
   "cell_type": "code",
   "execution_count": 2,
   "metadata": {},
   "outputs": [
    {
     "name": "stdout",
     "output_type": "stream",
     "text": [
      "Extracted Text:\n",
      "CUMMINS COLLEGE OF ENGINEERING FOR WOMEN\n",
      "\n",
      ". Maharshi Karve Stree Shikshan Samstha's\n",
      "eC\n",
      "Karve Nagar, Pune 411052\n",
      "\n",
      "Name SHREYA MOTE\n",
      "Admission Year 2021-22\n",
      "\n",
      "Branch Com puter Engineering\n",
      "P.R.No UCE2021543\n",
      "\n",
      "Date Of Birth 1§/07/2003\n",
      "\n",
      "Blood Group Ove\n",
      "\n",
      ": Principal- Dr. Madhuri Khambete\n",
      "ch, 7 —\n",
      "\n"
     ]
    }
   ],
   "source": [
    "import pytesseract\n",
    "from PIL import Image\n",
    "\n",
    "# Path to the tesseract executable\n",
    "pytesseract.pytesseract.tesseract_cmd = r'C:\\Program Files\\Tesseract-OCR\\tesseract.exe'  # Change this to your tesseract installation path\n",
    "\n",
    "# Load the image\n",
    "image_path = 'id.jpg'  # Replace with your image path\n",
    "image = Image.open(image_path)\n",
    "\n",
    "# Perform OCR on the image\n",
    "text = pytesseract.image_to_string(image)\n",
    "\n",
    "# Print the extracted text\n",
    "print(\"Extracted Text:\")\n",
    "print(text)\n"
   ]
  }
 ],
 "metadata": {
  "kernelspec": {
   "display_name": "Python 3",
   "language": "python",
   "name": "python3"
  },
  "language_info": {
   "codemirror_mode": {
    "name": "ipython",
    "version": 3
   },
   "file_extension": ".py",
   "mimetype": "text/x-python",
   "name": "python",
   "nbconvert_exporter": "python",
   "pygments_lexer": "ipython3",
   "version": "3.12.3"
  }
 },
 "nbformat": 4,
 "nbformat_minor": 2
}
